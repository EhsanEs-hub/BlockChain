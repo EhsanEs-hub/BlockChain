{
  "nbformat": 4,
  "nbformat_minor": 0,
  "metadata": {
    "colab": {
      "name": "SafeMath.ipynb",
      "provenance": [],
      "collapsed_sections": [],
      "authorship_tag": "ABX9TyNXR7QeQ3oxiFqIhTvgqGcA",
      "include_colab_link": true
    },
    "kernelspec": {
      "name": "python3",
      "display_name": "Python 3"
    }
  },
  "cells": [
    {
      "cell_type": "markdown",
      "metadata": {
        "id": "view-in-github",
        "colab_type": "text"
      },
      "source": [
        "<a href=\"https://colab.research.google.com/github/EhsanEs-hub/BlockChain/blob/master/SafeMath.ipynb\" target=\"_parent\"><img src=\"https://colab.research.google.com/assets/colab-badge.svg\" alt=\"Open In Colab\"/></a>"
      ]
    },
    {
      "cell_type": "markdown",
      "metadata": {
        "id": "bQuG5w2oQxTW"
      },
      "source": [
        "# SafeMath Solidity Library"
      ]
    },
    {
      "cell_type": "markdown",
      "metadata": {
        "id": "NX1eV4HBRhcq"
      },
      "source": [
        "OpenZeppelin has created a library called SafeMath that prevents **Overflows and Underflows**  issues by default."
      ]
    },
    {
      "cell_type": "markdown",
      "metadata": {
        "id": "faXwev0ASiIS"
      },
      "source": [
        "libraries are similar to contracts but with a few differences. For our purposes, libraries allow us to use the using **keyword**, which automatically tacks on all of the library's methods to another data type."
      ]
    },
    {
      "cell_type": "code",
      "metadata": {
        "id": "ejU3J85DQYxd"
      },
      "source": [
        "pragma solidity >=0.5.0 <0.6.0;\n",
        "\n",
        "/**\n",
        " * @title SafeMath\n",
        " * @dev Math operations with safety checks that throw on error\n",
        " */\n",
        "library SafeMath {\n",
        "\n",
        "  /**\n",
        "  * @dev Multiplies two numbers, throws on overflow.\n",
        "  */\n",
        "  function mul(uint256 a, uint256 b) internal pure returns (uint256) {\n",
        "    if (a == 0) {\n",
        "      return 0;\n",
        "    }\n",
        "    uint256 c = a * b;\n",
        "    assert(c / a == b);\n",
        "    return c;\n",
        "  }\n",
        "  /**\n",
        "   * @notice Assert is similar to Require, where it will throw an error if false.\n",
        "   * The difference between assert and require is that require will refund the user the rest of\n",
        "   * their gas when a function fails, whereas assert will not. So most of the time you want to use\n",
        "   * require in our code.\n",
        "   */\n",
        "\n",
        "\n",
        "  /**\n",
        "  * @dev Integer division of two numbers, truncating the quotient.\n",
        "  */\n",
        "  function div(uint256 a, uint256 b) internal pure returns (uint256) {\n",
        "    // assert(b > 0); // Solidity automatically throws when dividing by 0\n",
        "    uint256 c = a / b;\n",
        "    // assert(a == b * c + a % b); // There is no case in which this doesn't hold\n",
        "    return c;\n",
        "  }\n",
        "\n",
        "  /**\n",
        "  * @dev Subtracts two numbers, throws on overflow (i.e. if subtrahend is greater than minuend).\n",
        "  */\n",
        "  function sub(uint256 a, uint256 b) internal pure returns (uint256) {\n",
        "    assert(b <= a);\n",
        "    return a - b;\n",
        "  }\n",
        "\n",
        "  /**\n",
        "  * @dev Adds two numbers, throws on overflow.\n",
        "  */\n",
        "  function add(uint256 a, uint256 b) internal pure returns (uint256) {\n",
        "    uint256 c = a + b;\n",
        "    assert(c >= a);\n",
        "    return c;\n",
        "  }\n",
        "}\n",
        "\n",
        "library SafeMath32 {\n",
        "\n",
        "  function mul(uint32 a, uint32 b) internal pure returns (uint32) {\n",
        "    if (a == 0) {\n",
        "      return 0;\n",
        "    }\n",
        "    uint32 c = a * b;\n",
        "    assert(c / a == b);\n",
        "    return c;\n",
        "  }\n",
        "\n",
        "  function div(uint32 a, uint32 b) internal pure returns (uint32) {\n",
        "    // assert(b > 0); // Solidity automatically throws when dividing by 0\n",
        "    uint32 c = a / b;\n",
        "    // assert(a == b * c + a % b); // There is no case in which this doesn't hold\n",
        "    return c;\n",
        "  }\n",
        "\n",
        "  function sub(uint32 a, uint32 b) internal pure returns (uint32) {\n",
        "    assert(b <= a);\n",
        "    return a - b;\n",
        "  }\n",
        "\n",
        "  function add(uint32 a, uint32 b) internal pure returns (uint32) {\n",
        "    uint32 c = a + b;\n",
        "    assert(c >= a);\n",
        "    return c;\n",
        "  }\n",
        "}\n",
        "\n",
        "/**\n",
        " * @title SafeMath16\n",
        " * @dev SafeMath library implemented for uint16\n",
        " */\n",
        "library SafeMath16 {\n",
        "\n",
        "  function mul(uint16 a, uint16 b) internal pure returns (uint16) {\n",
        "    if (a == 0) {\n",
        "      return 0;\n",
        "    }\n",
        "    uint16 c = a * b;\n",
        "    assert(c / a == b);\n",
        "    return c;\n",
        "  }\n",
        "\n",
        "  function div(uint16 a, uint16 b) internal pure returns (uint16) {\n",
        "    // assert(b > 0); // Solidity automatically throws when dividing by 0\n",
        "    uint16 c = a / b;\n",
        "    // assert(a == b * c + a % b); // There is no case in which this doesn't hold\n",
        "    return c;\n",
        "  }\n",
        "\n",
        "  function sub(uint16 a, uint16 b) internal pure returns (uint16) {\n",
        "    assert(b <= a);\n",
        "    return a - b;\n",
        "  }\n",
        "\n",
        "  function add(uint16 a, uint16 b) internal pure returns (uint16) {\n",
        "    uint16 c = a + b;\n",
        "    assert(c >= a);\n",
        "    return c;\n",
        "  }\n",
        "}"
      ],
      "execution_count": null,
      "outputs": []
    }
  ]
}