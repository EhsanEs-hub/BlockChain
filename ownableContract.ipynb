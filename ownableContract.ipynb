{
  "nbformat": 4,
  "nbformat_minor": 0,
  "metadata": {
    "colab": {
      "name": "ownableContract.ipynb",
      "provenance": [],
      "authorship_tag": "ABX9TyMBCYHcEpOphyyAg3vNC6DI",
      "include_colab_link": true
    },
    "kernelspec": {
      "name": "python3",
      "display_name": "Python 3"
    }
  },
  "cells": [
    {
      "cell_type": "markdown",
      "metadata": {
        "id": "view-in-github",
        "colab_type": "text"
      },
      "source": [
        "<a href=\"https://colab.research.google.com/github/EhsanEs-hub/BlockChain/blob/master/ownableContract.ipynb\" target=\"_parent\"><img src=\"https://colab.research.google.com/assets/colab-badge.svg\" alt=\"Open In Colab\"/></a>"
      ]
    },
    {
      "cell_type": "code",
      "metadata": {
        "id": "OEjLJkZk6Zvh",
        "colab_type": "code",
        "colab": {}
      },
      "source": [
        "pragma solidity >=0.5.0 <0.6.0;\n",
        "/**\n",
        " * @title Ownable\n",
        " * @dev The Ownable contract has an owner address, and provides basic authorization control\n",
        " * functions, this simplifies the implementation of \"user permissions\".\n",
        " */\n",
        " contract Ownable {\n",
        "  address private _owner;\n",
        "\n",
        "  event OwnershipTransferred(\n",
        "    address indexed previousOwner,\n",
        "    address indexed newOwner\n",
        "  );\n",
        "\n",
        "  /**\n",
        "   * @dev The Ownable constructor sets the original `owner` of the contract to the sender\n",
        "   * account.\n",
        "   */\n",
        "  constructor() internal {\n",
        "    _owner = msg.sender;\n",
        "    emit OwnershipTransferred(address(0), _owner);\n",
        "  }\n",
        "\n",
        "  /**\n",
        "   * @return the address of the owner.\n",
        "   */\n",
        "  function owner() public view returns(address) {\n",
        "    return _owner;\n",
        "  }\n",
        "\n",
        "  /**\n",
        "   * @dev Throws if called by any account other than the owner.\n",
        "   */\n",
        "  modifier onlyOwner() {\n",
        "    require(isOwner());\n",
        "    _;\n",
        "// when it hits the _; statement in onlyOwner, it goes back and\n",
        "// executes the code inside renounceOwnership.\n",
        "  }\n",
        "  \n",
        "\n",
        "\n",
        "  /**\n",
        "   * @return true if `msg.sender` is the owner of the contract.\n",
        "   */\n",
        "  function isOwner() public view returns(bool) {\n",
        "    return msg.sender == _owner;\n",
        "  }\n",
        "\n",
        "  /**\n",
        "   * @dev Allows the current owner to relinquish control of the contract.\n",
        "   * @notice Renouncing to ownership will leave the contract without an owner.\n",
        "   * It will not be possible to call the functions with the `onlyOwner` modifier anymore.\n",
        "   */\n",
        "  function renounceOwnership() public onlyOwner {\n",
        "    emit OwnershipTransferred(_owner, address(0));\n",
        "    _owner = address(0);\n",
        "  }\n",
        "\n",
        "  /**\n",
        "   * @dev Allows the current owner to transfer control of the contract to a newOwner.\n",
        "   * @param newOwner The address to transfer ownership to.\n",
        "   */\n",
        "  function transferOwnership(address newOwner) public onlyOwner {\n",
        "    _transferOwnership(newOwner);\n",
        "  }\n",
        "\n",
        "  /**\n",
        "   * @dev Transfers control of the contract to a newOwner.\n",
        "   * @param newOwner The address to transfer ownership to.\n",
        "   */\n",
        "  function _transferOwnership(address newOwner) internal {\n",
        "    require(newOwner != address(0));\n",
        "    emit OwnershipTransferred(_owner, newOwner);\n",
        "    _owner = newOwner;\n",
        "  }\n",
        "}"
      ],
      "execution_count": null,
      "outputs": []
    }
  ]
}