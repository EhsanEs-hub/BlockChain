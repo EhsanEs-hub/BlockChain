{
  "nbformat": 4,
  "nbformat_minor": 0,
  "metadata": {
    "colab": {
      "name": "Truffle.ipynb",
      "provenance": [],
      "authorship_tag": "ABX9TyM3KmgsADV75SlbNqryRyVq",
      "include_colab_link": true
    },
    "kernelspec": {
      "name": "python3",
      "display_name": "Python 3"
    }
  },
  "cells": [
    {
      "cell_type": "markdown",
      "metadata": {
        "id": "view-in-github",
        "colab_type": "text"
      },
      "source": [
        "<a href=\"https://colab.research.google.com/github/EhsanEs-hub/BlockChain/blob/master/Truffle.ipynb\" target=\"_parent\"><img src=\"https://colab.research.google.com/assets/colab-badge.svg\" alt=\"Open In Colab\"/></a>"
      ]
    },
    {
      "cell_type": "code",
      "metadata": {
        "id": "SwUTpCWHt3x5"
      },
      "source": [
        "const HDWalletProvider = require(\"truffle-hdwallet-provider\");\n",
        "const LoomTruffleProvider = require('loom-truffle-provider');\n",
        "const mnemonic = \"YOUR MNEMONIC HERE\";\n",
        "module.exports = {\n",
        "    // Object with configuration for each network\n",
        "    networks: {\n",
        "        //development\n",
        "        development: {\n",
        "            host: \"127.0.0.1\",\n",
        "            port: 7545,\n",
        "            network_id: \"*\",\n",
        "            gas: 9500000\n",
        "        },\n",
        "        // Configuration for Ethereum Mainnet\n",
        "        mainnet: {\n",
        "            provider: function() {\n",
        "                return new HDWalletProvider(mnemonic, \"https://mainnet.infura.io/v3/<YOUR_INFURA_API_KEY>\")\n",
        "            },\n",
        "            network_id: \"1\" // Match any network id\n",
        "        },\n",
        "        // Configuration for Rinkeby Network\n",
        "        rinkeby: {\n",
        "            provider: function() {\n",
        "                // Setting the provider with the Infura Rinkeby address and Token\n",
        "                return new HDWalletProvider(mnemonic, \"https://rinkeby.infura.io/v3/<YOUR_INFURA_API_KEY>\")\n",
        "            },\n",
        "            network_id: 4\n",
        "        },\n",
        "        // Configuration for Loom Testnet\n",
        "        loom_testnet: {\n",
        "            provider: function() {\n",
        "                const privateKey = 'YOUR_PRIVATE_KEY';\n",
        "                const chainId = 'extdev-plasma-us1';\n",
        "                const writeUrl = 'wss://extdev-basechain-us1.dappchains.com/websocket';\n",
        "                const readUrl = 'wss://extdev-basechain-us1.dappchains.com/queryws';              \n",
        "                // return new LoomTruffleProvider(chainId, writeUrl, readUrl, privateKey);\n",
        "\t\t\t\tconst loomTruffleProvider = new LoomTruffleProvider(chainId, writeUrl, readUrl, privateKey);\n",
        "\t\t\t\tloomTruffleProvider.createExtraAccountsFromMnemonic(mnemonic, 10);\n",
        "\t\t\t\treturn loomTruffleProvider;\n",
        "            },\n",
        "            network_id: '9545242630824'\n",
        "        }\n",
        "    },\n",
        "    compilers: {\n",
        "        solc: {\n",
        "            version: \"0.4.25\"\n",
        "        }\n",
        "    }\n",
        "};\n"
      ],
      "execution_count": null,
      "outputs": []
    }
  ]
}