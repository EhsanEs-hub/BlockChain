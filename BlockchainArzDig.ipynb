{
  "nbformat": 4,
  "nbformat_minor": 0,
  "metadata": {
    "colab": {
      "name": "BlockchainArzDig.ipynb",
      "provenance": [],
      "collapsed_sections": [],
      "authorship_tag": "ABX9TyMWBEmhHZmkyQtK2h4Fn5ie",
      "include_colab_link": true
    },
    "kernelspec": {
      "name": "python3",
      "display_name": "Python 3"
    }
  },
  "cells": [
    {
      "cell_type": "markdown",
      "metadata": {
        "id": "view-in-github",
        "colab_type": "text"
      },
      "source": [
        "<a href=\"https://colab.research.google.com/github/EhsanEs-hub/BlockChain/blob/master/BlockchainArzDig.ipynb\" target=\"_parent\"><img src=\"https://colab.research.google.com/assets/colab-badge.svg\" alt=\"Open In Colab\"/></a>"
      ]
    },
    {
      "cell_type": "code",
      "metadata": {
        "id": "PbI4MU-Cd4bB",
        "colab_type": "code",
        "colab": {}
      },
      "source": [
        "import hashlib\n",
        "from hashlib import sha256\n",
        "import json\n",
        "from time import time\n",
        "from urllib.parse import urlparse\n",
        "from uuid import uuid4\n",
        "from textwrap import dedent\n",
        "import requests\n",
        "from flask import Flask, jsonify, request\n",
        "from argparse import ArgumentParser"
      ],
      "execution_count": 2,
      "outputs": []
    },
    {
      "cell_type": "code",
      "metadata": {
        "id": "qdjR9qgVFYcW",
        "colab_type": "code",
        "colab": {}
      },
      "source": [
        "class Blockchain:\n",
        "  \n",
        "    def __init__(self):\n",
        "        self.current_transactions = []\n",
        "        self.chain = []\n",
        "        self.nodes = set()\n",
        "\n",
        "        # Create the genesis block\n",
        "        self.new_block(previous_hash='1', proof=100)"
      ],
      "execution_count": 21,
      "outputs": []
    },
    {
      "cell_type": "markdown",
      "metadata": {
        "id": "PRi77PTGXf7U",
        "colab_type": "text"
      },
      "source": [
        " **Add a new node** to the list of nodes, \n",
        "        \n",
        "\n",
        "\n",
        "*   :param address, Address of node.\n",
        "*   Eg. *'http://192.168.0.5:5000'*.\n",
        "\n"
      ]
    },
    {
      "cell_type": "code",
      "metadata": {
        "id": "WoCkNUtFQWYl",
        "colab_type": "code",
        "colab": {}
      },
      "source": [
        "   def register_node(self, address):\n",
        "\n",
        "        parsed_url = urlparse('http://127.0.0.1:5000')\n",
        "\n",
        "        if parsed_url.netloc:\n",
        "\n",
        "            self.nodes.add(parsed_url.netloc)\n",
        "\n",
        "        elif parsed_url.path:\n",
        "\n",
        "            # Accepts an URL without scheme like '192.168.0.5:5000'.\n",
        "            self.nodes.add(parsed_url.path)\n",
        "\n",
        "        else:\n",
        "            raise ValueError('Invalid URL')\n"
      ],
      "execution_count": 4,
      "outputs": []
    },
    {
      "cell_type": "markdown",
      "metadata": {
        "id": "kon55K2JX9O2",
        "colab_type": "text"
      },
      "source": [
        "**Determine** if a **given blockchain** is **valid**\n",
        "\n",
        "\n",
        "*   :param chain: A blockchain\n",
        "*   :return: True if valid, False if not.\n",
        "\n",
        "\n",
        " \n",
        "        "
      ]
    },
    {
      "cell_type": "code",
      "metadata": {
        "id": "69tKOXKaRYk-",
        "colab_type": "code",
        "colab": {}
      },
      "source": [
        "    def valid_chain(self, chain):\n",
        "\n",
        "        last_block = chain[0]\n",
        "        current_index = 1\n",
        "\n",
        "        while current_index < len(chain):\n",
        "\n",
        "            block = chain[current_index]\n",
        "            print(f'{last_block}')\n",
        "            print(f'{block}')\n",
        "            print(\"\\n-----------\\n\")\n",
        "\n",
        "            # Check that the hash of the block is correct\n",
        "            last_block_hash = self.hash(last_block)\n",
        "            if block['previous_hash'] != last_block_hash:\n",
        "                return False\n",
        "\n",
        "            # Check that the Proof of Work is correct\n",
        "            if not self.valid_proof(last_block['proof'], block['proof'], last_block_hash):\n",
        "                return False\n",
        "\n",
        "            last_block = block\n",
        "            current_index += 1\n",
        "\n",
        "        return True\n"
      ],
      "execution_count": 5,
      "outputs": []
    },
    {
      "cell_type": "markdown",
      "metadata": {
        "id": "LM42iHxQX7zh",
        "colab_type": "text"
      },
      "source": [
        "  This is our **consensus algorithm**, it resolves conflicts\n",
        "        by **replacing our chain with the longest one in the network** .\n",
        "\n",
        "\n",
        "*   :return: True if our chain was replaced, False if not.   \n",
        "\n",
        "\n",
        "\n",
        "\n",
        "\n",
        "       \n",
        "        \n",
        "        "
      ]
    },
    {
      "cell_type": "code",
      "metadata": {
        "id": "xt5cvWmbUBjZ",
        "colab_type": "code",
        "colab": {}
      },
      "source": [
        "    def resolve_conflicts(self):\n",
        "\n",
        "        neighbours = self.nodes\n",
        "        new_chain = None\n",
        "\n",
        "        # We're only looking for chains longer than ours\n",
        "        max_length = len(self.chain)\n",
        "\n",
        "        # Grab and verify the chains from all the nodes in our network\n",
        "        for node in neighbours:\n",
        "\n",
        "            response = requests.get(f'http://{node}/chain')\n",
        "\n",
        "            if response.status_code == 200:\n",
        "                length = response.json()['length']\n",
        "                chain = response.json()['chain']\n",
        "\n",
        "                # Check if the length is longer and the chain is valid\n",
        "                if length > max_length and self.valid_chain(chain):\n",
        "                    max_length = length\n",
        "                    new_chain = chain\n",
        "\n",
        "        # Replace our chain if we discovered a new, valid chain longer than ours\n",
        "        if new_chain:\n",
        "            self.chain = new_chain\n",
        "            return True\n",
        "\n",
        "        return False"
      ],
      "execution_count": 6,
      "outputs": []
    },
    {
      "cell_type": "markdown",
      "metadata": {
        "id": "6qzrV237ZAnL",
        "colab_type": "text"
      },
      "source": [
        " **Create a new Block** in the Blockchain\n",
        "\n",
        "\n",
        "*   :param proof: The proof given by the **Proof of Work algorithm**\n",
        "*   :param previous_hash: Hash of previous Block\n",
        "\n",
        "*   :return: New Block\n",
        "\n",
        "\n",
        "\n",
        "\n",
        "        \n",
        "        \n",
        "        "
      ]
    },
    {
      "cell_type": "code",
      "metadata": {
        "id": "TSVqw7gPXZWQ",
        "colab_type": "code",
        "colab": {}
      },
      "source": [
        "   def new_block(self, proof, previous_hash):\n",
        "  \n",
        "        block = {\n",
        "            'index': len(self.chain) + 1,\n",
        "            'timestamp': time(),\n",
        "            'transactions': self.current_transactions,\n",
        "            'proof': proof,\n",
        "            'previous_hash': previous_hash or self.hash(self.chain[-1]),\n",
        "        }\n",
        "\n",
        "        # Reset the current list of transactions\n",
        "        self.current_transactions = []\n",
        "\n",
        "        self.chain.append(block)\n",
        "        return block"
      ],
      "execution_count": 7,
      "outputs": []
    },
    {
      "cell_type": "markdown",
      "metadata": {
        "id": "LLCR2YuIZ1Jq",
        "colab_type": "text"
      },
      "source": [
        "**Creates a new transaction** to go into the next mined Block\n",
        "\n",
        "\n",
        "*   :param sender: Address of the Sender\n",
        "\n",
        "*   :param recipient: Address of the Recipient\n",
        "*   :param amount: Amount\n",
        "\n",
        "\n",
        "*   :return: The index of the Block that will hold this transaction\n",
        "\n",
        "\n",
        "        \n",
        "        \n",
        "        \n",
        "        "
      ]
    },
    {
      "cell_type": "code",
      "metadata": {
        "id": "EIMyN8MEaFwt",
        "colab_type": "code",
        "colab": {}
      },
      "source": [
        "  def new_transaction(self, sender, recipient, amount):\n",
        "\n",
        "        self.current_transactions.append(\n",
        "            {\n",
        "            'sender': sender,\n",
        "            'recipient': recipient,\n",
        "            'amount': amount,\n",
        "        }\n",
        "        )\n",
        "\n",
        "        return self.last_block['index'] + 1"
      ],
      "execution_count": 8,
      "outputs": []
    },
    {
      "cell_type": "markdown",
      "metadata": {
        "id": "yb4IqImFbnjN",
        "colab_type": "text"
      },
      "source": [
        "Creates a **SHA-256 hash** of a Block\n",
        "        :param block: Block"
      ]
    },
    {
      "cell_type": "code",
      "metadata": {
        "id": "VCzX0QSebjp1",
        "colab_type": "code",
        "colab": {}
      },
      "source": [
        "    @property\n",
        "    def last_block(self):\n",
        "      \n",
        "        return self.chain[-1]\n",
        "\n",
        "    @staticmethod\n",
        "    def hash(block):\n",
        "\n",
        "        # We must make sure that the Dictionary is Ordered and we won't have inconsistent hashes for blocks with the same data\n",
        "        block_string = json.dumps(block, sort_keys=True).encode()\n",
        "        return hashlib.sha256(block_string).hexdigest()\n"
      ],
      "execution_count": 9,
      "outputs": []
    },
    {
      "cell_type": "markdown",
      "metadata": {
        "id": "bhUTEGhCqgHu",
        "colab_type": "text"
      },
      "source": [
        "# **PoW  (Proof of Work)**"
      ]
    },
    {
      "cell_type": "markdown",
      "metadata": {
        "id": "o4HB0HzhqpVH",
        "colab_type": "text"
      },
      "source": [
        "The core idea behind **PoW** is discovering a number that is solution for the equation, although it must be **hard** enough to **find** and in proportion **easy** to **proof**. "
      ]
    },
    {
      "cell_type": "markdown",
      "metadata": {
        "id": "Rpazlxbot7qY",
        "colab_type": "text"
      },
      "source": [
        "for example :"
      ]
    },
    {
      "cell_type": "code",
      "metadata": {
        "id": "FO9bTikMqW5N",
        "colab_type": "code",
        "colab": {
          "base_uri": "https://localhost:8080/",
          "height": 34
        },
        "outputId": "039bf50d-f7c0-47d3-f035-f152f1af3578"
      },
      "source": [
        "x = 5\n",
        "y = 0\n",
        "\n",
        "while sha256(f'{x*y}'.encode()).hexdigest()[-1] != \"0\":\n",
        "    y += 1\n",
        "    \n",
        "print(f'The solution is y = {y}')\n"
      ],
      "execution_count": null,
      "outputs": [
        {
          "output_type": "stream",
          "text": [
            "The solution is y = 21\n"
          ],
          "name": "stdout"
        }
      ]
    },
    {
      "cell_type": "markdown",
      "metadata": {
        "id": "V4ndo6Hmydc9",
        "colab_type": "text"
      },
      "source": [
        "**Simple Proof of Work Algorithm:**"
      ]
    },
    {
      "cell_type": "markdown",
      "metadata": {
        "id": "KVtN9uUpyYXL",
        "colab_type": "text"
      },
      "source": [
        "\n",
        "\n",
        "*   Find a number p' such that hash(pp') contains leading 4 zeroes\n",
        "*   Where p is the previous proof, and p' is the new proof\n",
        "\n",
        ":param last_block: <dict> last Block\n",
        "        :return: <int>"
      ]
    },
    {
      "cell_type": "code",
      "metadata": {
        "id": "55hrQ-MHzNWI",
        "colab_type": "code",
        "colab": {}
      },
      "source": [
        "    def proof_of_work(self, last_block):\n",
        "      \n",
        "        last_proof = last_block['proof']\n",
        "        last_hash = self.hash(last_block)\n",
        "\n",
        "        proof = 0\n",
        "        while self.valid_proof(last_proof, proof, last_hash) is False:\n",
        "            proof += 1\n",
        "\n",
        "        return proof\n"
      ],
      "execution_count": 10,
      "outputs": []
    },
    {
      "cell_type": "markdown",
      "metadata": {
        "id": "sHCVm18Z3b1k",
        "colab_type": "text"
      },
      "source": [
        "**Validates the Proof**\n",
        "\n",
        "\n",
        "*   param last_proof: <int> Previous Proof\n",
        "*   param proof: <int> Current Proof\n",
        "\n",
        "\n",
        "*   param last_hash: <str> The hash of the Previous Block\n",
        "*   return: <bool> True if correct, False if not.\n"
      ]
    },
    {
      "cell_type": "code",
      "metadata": {
        "id": "j3M9jbcO0-KM",
        "colab_type": "code",
        "colab": {}
      },
      "source": [
        "    @staticmethod\n",
        "    def valid_proof(last_proof, proof, last_hash):\n",
        "       \n",
        "        guess = f'{last_proof}{proof}{last_hash}'.encode()\n",
        "        guess_hash = hashlib.sha256(guess).hexdigest()\n",
        "        return guess_hash[:4] == \"0000\""
      ],
      "execution_count": 11,
      "outputs": []
    },
    {
      "cell_type": "markdown",
      "metadata": {
        "id": "bOPihtXr9Mam",
        "colab_type": "text"
      },
      "source": [
        "# Our Blockchain as an **API**"
      ]
    },
    {
      "cell_type": "code",
      "metadata": {
        "id": "c0O1Bn-Q99OP",
        "colab_type": "code",
        "colab": {}
      },
      "source": [
        "# Instantiate the Node\n",
        "app = Flask(__name__)"
      ],
      "execution_count": 12,
      "outputs": []
    },
    {
      "cell_type": "code",
      "metadata": {
        "id": "DMnAT1eW-EG_",
        "colab_type": "code",
        "colab": {}
      },
      "source": [
        "# Generate a globally unique address for this node\n",
        "node_identifier = str(uuid4()).replace('-', '')"
      ],
      "execution_count": 13,
      "outputs": []
    },
    {
      "cell_type": "code",
      "metadata": {
        "id": "Z90FPIA7-kGI",
        "colab_type": "code",
        "colab": {
          "base_uri": "https://localhost:8080/",
          "height": 265
        },
        "outputId": "d1c456de-488b-4fb2-c223-1d3b04542fa5"
      },
      "source": [
        "# Instantiate the Blockchain\n",
        "blockchain = Blockchain()"
      ],
      "execution_count": 22,
      "outputs": [
        {
          "output_type": "error",
          "ename": "AttributeError",
          "evalue": "ignored",
          "traceback": [
            "\u001b[0;31m---------------------------------------------------------------------------\u001b[0m",
            "\u001b[0;31mAttributeError\u001b[0m                            Traceback (most recent call last)",
            "\u001b[0;32m<ipython-input-22-f0e25a217aad>\u001b[0m in \u001b[0;36m<module>\u001b[0;34m()\u001b[0m\n\u001b[1;32m      1\u001b[0m \u001b[0;31m# Instantiate the Blockchain\u001b[0m\u001b[0;34m\u001b[0m\u001b[0;34m\u001b[0m\u001b[0;34m\u001b[0m\u001b[0m\n\u001b[0;32m----> 2\u001b[0;31m \u001b[0mblockchain\u001b[0m \u001b[0;34m=\u001b[0m \u001b[0mBlockchain\u001b[0m\u001b[0;34m(\u001b[0m\u001b[0;34m)\u001b[0m\u001b[0;34m\u001b[0m\u001b[0;34m\u001b[0m\u001b[0m\n\u001b[0m",
            "\u001b[0;32m<ipython-input-21-82cfb316d938>\u001b[0m in \u001b[0;36m__init__\u001b[0;34m(self)\u001b[0m\n\u001b[1;32m      7\u001b[0m \u001b[0;34m\u001b[0m\u001b[0m\n\u001b[1;32m      8\u001b[0m         \u001b[0;31m# Create the genesis block\u001b[0m\u001b[0;34m\u001b[0m\u001b[0;34m\u001b[0m\u001b[0;34m\u001b[0m\u001b[0m\n\u001b[0;32m----> 9\u001b[0;31m         \u001b[0mself\u001b[0m\u001b[0;34m.\u001b[0m\u001b[0mnew_block\u001b[0m\u001b[0;34m(\u001b[0m\u001b[0mprevious_hash\u001b[0m\u001b[0;34m=\u001b[0m\u001b[0;34m'1'\u001b[0m\u001b[0;34m,\u001b[0m \u001b[0mproof\u001b[0m\u001b[0;34m=\u001b[0m\u001b[0;36m100\u001b[0m\u001b[0;34m)\u001b[0m\u001b[0;34m\u001b[0m\u001b[0;34m\u001b[0m\u001b[0m\n\u001b[0m",
            "\u001b[0;31mAttributeError\u001b[0m: 'Blockchain' object has no attribute 'new_block'"
          ]
        }
      ]
    },
    {
      "cell_type": "markdown",
      "metadata": {
        "id": "VbrAKFWBDbBp",
        "colab_type": "text"
      },
      "source": [
        "# **Mining Endpoint :**"
      ]
    },
    {
      "cell_type": "code",
      "metadata": {
        "id": "23Ew0Wn_-0mh",
        "colab_type": "code",
        "colab": {}
      },
      "source": [
        "@app.route('/mine', methods=['GET'])\n",
        "\n",
        "def mine():\n",
        "\n",
        "    # We run the proof of work algorithm to get the next proof...\n",
        "    last_block = blockchain.last_block\n",
        "    proof = blockchain.proof_of_work(last_block)\n",
        "\n",
        "    # We must receive a reward for finding the proof.\n",
        "    # The sender is \"0\" to signify that this node has mined a new coin.\n",
        "    blockchain.new_transaction(\n",
        "        sender=\"0\",\n",
        "        recipient=node_identifier,\n",
        "        amount=1,\n",
        "    )\n",
        "\n",
        "    # Forge the new Block by adding it to the chain\n",
        "    previous_hash = blockchain.hash(last_block)\n",
        "    block = blockchain.new_block(proof, previous_hash)\n",
        "\n",
        "    response = {\n",
        "        'message': \"New Block Forged\",\n",
        "        'index': block['index'],\n",
        "        'transactions': block['transactions'],\n",
        "        'proof': block['proof'],\n",
        "        'previous_hash': block['previous_hash'],\n",
        "    }\n",
        "    \n",
        "    return jsonify(response), 200"
      ],
      "execution_count": 15,
      "outputs": []
    },
    {
      "cell_type": "markdown",
      "metadata": {
        "id": "7aLp8FMCDyKb",
        "colab_type": "text"
      },
      "source": [
        "# **Transactions Endpoint :**"
      ]
    },
    {
      "cell_type": "code",
      "metadata": {
        "id": "-WNCVg-nAwoG",
        "colab_type": "code",
        "colab": {}
      },
      "source": [
        "@app.route('/transactions/new', methods=['POST'])\n",
        "\n",
        "def new_transaction():\n",
        "    values = request.get_json()\n",
        "\n",
        "    # Check that the required fields are in the POST'ed data\n",
        "    required = ['sender', 'recipient', 'amount']\n",
        "    if not all(k in values for k in required):\n",
        "        return 'Missing values', 400\n",
        "\n",
        "    # Create a new Transaction\n",
        "    index = blockchain.new_transaction(values['sender'], values['recipient'], values['amount'])\n",
        "\n",
        "    response = {'message': f'Transaction will be added to Block {index}'}\n",
        "    return jsonify(response), 201"
      ],
      "execution_count": 16,
      "outputs": []
    },
    {
      "cell_type": "code",
      "metadata": {
        "id": "lphNjjZUBVeo",
        "colab_type": "code",
        "colab": {}
      },
      "source": [
        "@app.route('/chain', methods=['GET'])\n",
        "\n",
        "def full_chain():\n",
        "\n",
        "    response = {\n",
        "        'chain': blockchain.chain,\n",
        "        'length': len(blockchain.chain),\n",
        "    }\n",
        "    \n",
        "    return jsonify(response), 200"
      ],
      "execution_count": 17,
      "outputs": []
    },
    {
      "cell_type": "code",
      "metadata": {
        "id": "BW9sfLMLCM07",
        "colab_type": "code",
        "colab": {}
      },
      "source": [
        "@app.route('/nodes/register', methods=['POST'])\n",
        "\n",
        "def register_nodes():\n",
        "    values = request.get_json()\n",
        "\n",
        "    nodes = values.get('nodes')\n",
        "    if nodes is None:\n",
        "        return \"Error: Please supply a valid list of nodes\", 400\n",
        "\n",
        "    for node in nodes:\n",
        "        blockchain.register_node(node)\n",
        "\n",
        "    response = {\n",
        "        'message': 'New nodes have been added',\n",
        "        'total_nodes': list(blockchain.nodes),\n",
        "    }\n",
        "    return jsonify(response), 201"
      ],
      "execution_count": 18,
      "outputs": []
    },
    {
      "cell_type": "code",
      "metadata": {
        "id": "EeKzkdKFCitZ",
        "colab_type": "code",
        "colab": {}
      },
      "source": [
        "@app.route('/nodes/resolve', methods=['GET'])\n",
        "\n",
        "def consensus():\n",
        "    replaced = blockchain.resolve_conflicts()\n",
        "\n",
        "    if replaced:\n",
        "        response = {\n",
        "            'message': 'Our chain was replaced',\n",
        "            'new_chain': blockchain.chain\n",
        "        }\n",
        "    else:\n",
        "        response = {\n",
        "            'message': 'Our chain is authoritative',\n",
        "            'chain': blockchain.chain\n",
        "        }\n",
        "\n",
        "    return jsonify(response), 200\n"
      ],
      "execution_count": 19,
      "outputs": []
    },
    {
      "cell_type": "code",
      "metadata": {
        "id": "ifvdlFxvCpXq",
        "colab_type": "code",
        "colab": {
          "base_uri": "https://localhost:8080/",
          "height": 180
        },
        "outputId": "b53a08d0-9e94-44ac-aecf-c162e9113e5a"
      },
      "source": [
        "if __name__ == '__main__':\n",
        "\n",
        "    parser = ArgumentParser()\n",
        "    parser.add_argument('-p', '--port', default=5000, type=int, help='port to listen on')\n",
        "    args = parser.parse_args()\n",
        "    port = args.port\n",
        "\n",
        "    app.run(host='0.0.0.0', port=port)"
      ],
      "execution_count": 20,
      "outputs": [
        {
          "output_type": "stream",
          "text": [
            "usage: ipykernel_launcher.py [-h] [-p PORT]\n",
            "ipykernel_launcher.py: error: unrecognized arguments: -f /root/.local/share/jupyter/runtime/kernel-524842c2-1a8b-4496-937d-4c7f3e59dad7.json\n"
          ],
          "name": "stderr"
        },
        {
          "output_type": "error",
          "ename": "SystemExit",
          "evalue": "ignored",
          "traceback": [
            "An exception has occurred, use %tb to see the full traceback.\n",
            "\u001b[0;31mSystemExit\u001b[0m\u001b[0;31m:\u001b[0m 2\n"
          ]
        },
        {
          "output_type": "stream",
          "text": [
            "/usr/local/lib/python3.6/dist-packages/IPython/core/interactiveshell.py:2890: UserWarning: To exit: use 'exit', 'quit', or Ctrl-D.\n",
            "  warn(\"To exit: use 'exit', 'quit', or Ctrl-D.\", stacklevel=1)\n"
          ],
          "name": "stderr"
        }
      ]
    }
  ]
}