{
  "nbformat": 4,
  "nbformat_minor": 0,
  "metadata": {
    "colab": {
      "name": "ERC721.ipynb",
      "provenance": [],
      "authorship_tag": "ABX9TyOcp8ohc7HMKV12WH2Mhnue",
      "include_colab_link": true
    },
    "kernelspec": {
      "name": "python3",
      "display_name": "Python 3"
    }
  },
  "cells": [
    {
      "cell_type": "markdown",
      "metadata": {
        "id": "view-in-github",
        "colab_type": "text"
      },
      "source": [
        "<a href=\"https://colab.research.google.com/github/EhsanEs-hub/BlockChain/blob/master/ERC721.ipynb\" target=\"_parent\"><img src=\"https://colab.research.google.com/assets/colab-badge.svg\" alt=\"Open In Colab\"/></a>"
      ]
    },
    {
      "cell_type": "code",
      "metadata": {
        "id": "9V6WAHICFMm0",
        "colab_type": "code",
        "colab": {}
      },
      "source": [
        "pragma solidity >=0.5.0 <0.6.0;\n",
        "\n",
        "contract ERC721 {\n",
        "  event Transfer(address indexed _from, address indexed _to, uint256 indexed _tokenId);\n",
        "  event Approval(address indexed _owner, address indexed _approved, uint256 indexed _tokenId);\n",
        "\n",
        "  function balanceOf(address _owner) external view returns (uint256);\n",
        "  function ownerOf(uint256 _tokenId) external view returns (address);\n",
        "  function transferFrom(address _from, address _to, uint256 _tokenId) external payable;\n",
        "  function approve(address _approved, uint256 _tokenId) external payable;\n",
        "}"
      ],
      "execution_count": null,
      "outputs": []
    }
  ]
}