{
  "nbformat": 4,
  "nbformat_minor": 0,
  "metadata": {
    "colab": {
      "name": "SolidityContractGameCryptoZombie.ipynb",
      "provenance": [],
      "collapsed_sections": [],
      "authorship_tag": "ABX9TyN4c3y6vmuyPazRB0dskkn7",
      "include_colab_link": true
    },
    "kernelspec": {
      "name": "python3",
      "display_name": "Python 3"
    }
  },
  "cells": [
    {
      "cell_type": "markdown",
      "metadata": {
        "id": "view-in-github",
        "colab_type": "text"
      },
      "source": [
        "<a href=\"https://colab.research.google.com/github/EhsanEs-hub/BlockChain/blob/master/SolidityContractGameCryptoZombie.ipynb\" target=\"_parent\"><img src=\"https://colab.research.google.com/assets/colab-badge.svg\" alt=\"Open In Colab\"/></a>"
      ]
    },
    {
      "cell_type": "code",
      "metadata": {
        "id": "1davOgEv4jsW"
      },
      "source": [
        "pragma solidity >=0.5.0 <0.6.0;\n",
        "\n",
        "/**\n",
        " * @title ZombieFactory\n",
        " * @dev A contract for producing crypto Zombies\n",
        " * @dev this contract designed to give a prespective about the base of Etherium blockchain, \n",
        " * concepts of tockens, methods of transactions and managing security and financial issues.\n",
        " * @dev each zombie have two basic part : id and address\n",
        " * @param address is an Etherium blockchain id and belong to zombies owner and sometimes represent via msg.sender parameter\n",
        " * @param id is an unsigned integer(uint) variable and the number of Zombie in zombies Array that hold all the id of zombies that register in contract.\n",
        " * @param Zombie is a Soliditys special data frame that keeps properties of a zombie like name, dna, level,..etc.\n",
        " * @param dna is an uint variable with 16 digit number that is a Skeleton for our cryptoZambie (something like token id).\n",
        " */\n",
        "\n",
        "// To limit setKittyContractAddress to onlyOwner and make ZombieFactory inherit from it.\n",
        "\n",
        "import \"./ownable.sol\";"
      ],
      "execution_count": null,
      "outputs": []
    },
    {
      "cell_type": "markdown",
      "metadata": {
        "id": "MkbNOBiu5P_D"
      },
      "source": [
        "All **solidity** source code should start with a **`*version pragma*`**. Declaration of the version of the\n",
        "Solidity compiler this code should use. Compile smart contracts with any compiler version\n",
        "In the range of 0.5.0 (inclusive) to 0.6.0 (exclusive)."
      ]
    },
    {
      "cell_type": "markdown",
      "metadata": {
        "id": "6jR3lyVy7wnB"
      },
      "source": [
        "Solidity's code is ***encapsulated*** in **`contracts`**. A contract is the fundamental building block of\n",
        "**Ethereum** applications. let's create a base contract called *ZombieFactory*."
      ]
    },
    {
      "cell_type": "code",
      "metadata": {
        "id": "z6aNdi3a5hpn"
      },
      "source": [
        "contract ZombieFactory is Ownable {\n",
        "\n",
        "// declare our event called NewZombie here\n",
        "\n",
        "  event NewZombie(uint zombieId , string name, uint dna);\n",
        "\n",
        "// Zombie DNA is only 16 characters, Lets make another uint equal to 10^16.\n",
        "\n",
        "  uint dnaDigit = 16;\n",
        "  uint dnaModulus = 10 ** dnaDigits;\n",
        "\n",
        "\n",
        "// Lets add a *cooldown time* to our **DApp**, and make it so zombies have to wait 1 day after attacking or feeding to attack again.\n",
        "\n",
        "  uint cooldownTime = 1 days;\n",
        "  // if you set it equal to \"1 day\", it will not compile!\n",
        "\n",
        "// Struct allow us to create complicated data types with multiple properties.\n",
        "\n",
        "  struct Zombie {\n",
        "      \n",
        "    uint dna;\n",
        "    string name;\n",
        "    uint32 level;\n",
        "    uint32 readyTime;\n",
        "    uint16 winCount;\n",
        "    uint16 lossCount;\t\n",
        "\n",
        "  }\n",
        "\n",
        "  Zombie[] public zombies;\n",
        "\n",
        "  mapping (uint => address) public zombieToOwner;\n",
        "  mapping (address => uint) ownerZombieCount;"
      ],
      "execution_count": null,
      "outputs": []
    },
    {
      "cell_type": "markdown",
      "metadata": {
        "id": "V9mRZNFi-_mP"
      },
      "source": [
        "\n",
        "\n",
        "\n",
        "\n",
        "*   zombieToOwner[uint] = address\n",
        "*   keeps the address that owns a zombie(store and look up the zombie based on its id).\n",
        "\n",
        "\n",
        "*   zombieToOwner[id] = The address that Owns zombi[id]\n",
        "\n",
        "\n",
        "\n",
        "\n"
      ]
    },
    {
      "cell_type": "markdown",
      "metadata": {
        "id": "PK_utPJj_i1r"
      },
      "source": [
        "\n",
        "\n",
        "\n",
        "*   ownerZombieCount[address] = uint\n",
        "*   ownerZombieCount[owner's address] = how many zombies the owner has.\n",
        "\n"
      ]
    },
    {
      "cell_type": "code",
      "metadata": {
        "id": "u_kAhEM1--St"
      },
      "source": [
        "/**\n",
        "  * @dev In Solidity, functions are public by default, Change _createZombie() to internal so our other contract can access it. \n",
        "  * @param _name , _dna as the name and the dna of zombie comes from createRandomZombie function that we see later\n",
        "  * \n",
        "  */ \n",
        "\n",
        " function _createZombie (string memory _name, uint _dna) internal {\n",
        "     \n",
        "     uint id = zombies.push(Zombie(_name, _dna, 1, uint32(now + cooldownTime), 0, 0)) - 1;\n",
        "   // array.push() adds Zombie struct to the end of the zombies array.\n",
        "\n",
        "     zombieToOwner[id] = msg.sender;\n",
        "\t\t// update zombieToOwner mapping to store msg.sender under that id.\n",
        "\n",
        "    ownerZombieCount[msg.sender]++;\n",
        "\t\t\n",
        "// fire the NewZombie event after adding the new Zombie to our zombies array.\n",
        "\n",
        "    emit NewZombie(uint id, string _name, uint _dna);\n",
        "\n",
        "\t}"
      ],
      "execution_count": null,
      "outputs": []
    },
    {
      "cell_type": "code",
      "metadata": {
        "id": "4J45cpkGC4YU"
      },
      "source": [
        "\n",
        "\n",
        "  /**\n",
        "   * @dev its a helper function to create a Dna number from a string(zombie name).\n",
        "   * @param _str the string as input from createRandomZombie function that we see later\n",
        "   * @return a (semi) random uint.\n",
        "   */\n",
        "\n",
        "  function _generateRandomDna(string memory _str) private view returns (uint) {\n",
        "\n",
        "// a view function, meaning its only viewing the data but not modifying it.\n",
        "\n",
        "      uint rand = uint(keccak256(abi.encodePacked(_str)));\n",
        "      return rand % dnaModulus;\n",
        "    }\n",
        "    \n",
        "// use the modulus operator % to shorten an integer to 16 digits.\n",
        "// Remind of dividing a 32 dig Num on a 16 dig Num is certainly equal to a 16 dig Numer.\t"
      ],
      "execution_count": null,
      "outputs": []
    },
    {
      "cell_type": "markdown",
      "metadata": {
        "id": "sku1mmzuEIEm"
      },
      "source": [
        "Ethereum has the hash function **`keccak256`** built in, which is a version of **SHA3**. A *hash* function maps an input into a random 256-bit(32-Byte) hexadecimal number. we're just going to use it for **pseudo**-random number generation. keccak256 expects a single parameter of type bytes. we have to\n",
        "*\"pack\"* any parameters before calling keccak256. we have to typecast it as a uint."
      ]
    },
    {
      "cell_type": "code",
      "metadata": {
        "id": "zHas2HqvOf85"
      },
      "source": [
        " /**\n",
        "  * @dev the main function is public that ties everything together. \n",
        "  * @dev Function will Throws an error and exits if user owns one or more zombie\n",
        "  * @param _name the string as a zombie name that choose by the user who will be its owner.\n",
        "  * @dev it runs the _createZombie function and pass it _name and randDna.\n",
        "  */ \n",
        "\n",
        "\tfunction createRandomZombie(string memory _name) public{\n",
        "\n",
        "// we dont want the user to be able to create unlimited zombies in their army by repeatedly calling createRandomZombie.\n",
        "\t\n",
        "    require(ownerZombieCount[msg.sender] ==0)\n",
        "\n",
        "    uint randDna = _generateRandomDna(_name);\n",
        "    _createZombie(_name, randDna);\n",
        "    }\t    \n",
        "}"
      ],
      "execution_count": null,
      "outputs": []
    },
    {
      "cell_type": "markdown",
      "metadata": {
        "id": "1V0NCf2THEVP"
      },
      "source": [
        "# **Inheritance**"
      ]
    },
    {
      "cell_type": "markdown",
      "metadata": {
        "id": "m_7ye-zWHWop"
      },
      "source": [
        "For contract to talk to another contract on the blockchain that we don't own, first define an **interface**. Not defining the function bodies. Instead of curly braces {}, we're ending the function declaration with a *semi-colon*. `getKitty` function returns multiple values."
      ]
    },
    {
      "cell_type": "code",
      "metadata": {
        "id": "8pFM-UpBEoew"
      },
      "source": [
        "pragma solidity >=0.5.0 <0.6.0;\n",
        "\n",
        "import \"./zombiefactory.sol\";\n",
        "\n",
        "/**\n",
        " * @title KittyInterface\n",
        " * @dev a function called getKitty that returns all the kittys data, including its \"genes\"\n",
        " * @@notice this is interface looks just like creating a new contract — we use the contract keyword.\n",
        " * @@notice it returns a bunch of different values. in a programming language like Javascript, this is different,\n",
        " *  in Solidity you can return more than one value from a function.\n",
        " */ \n",
        "\n",
        "contract KittyInterface {\n",
        "    \n",
        "    function getKitty(uint256 _id) external view returns(      \n",
        "      bool isGestating,\n",
        "      bool isReady,\n",
        "      uint256 cooldownIndex,\n",
        "      uint256 nextActionAt,\n",
        "      uint256 siringWithId,\n",
        "      uint256 birthTime,\n",
        "      uint256 matronId,\n",
        "      uint256 sireId,\n",
        "      uint256 generation,\n",
        "      uint256 genes\n",
        "    );\n",
        ")\n",
        "\n",
        "contract ZombieFeeding is ZombieFactory {\n",
        "    \n",
        "    KittyInterface kittyContract;\n",
        "\n",
        "/**\n",
        "Address of the CryptoKitties(CK) contract :\n",
        "address CKAddress = 0x06012c8cf97BEaD5deAe237070F9587f8E7A266d;\n",
        "KittyInterface kittyContract = KittyInterface(CKAddress);\n",
        "*/\n",
        "\n",
        "// to make sure the user actually owns the zombie\n",
        "\t\n",
        "\tmodifier onlyOwnerOf(uint _zombieId) {\n",
        "\t\n",
        "    require(msg.sender == zombieToOwner[_zombieId]);\n",
        "\t_;\n",
        "\t\n",
        "\t}\n",
        "\n",
        "// modifier onlyOwner()\n",
        "\n",
        "  function setKittyContractAddress(address _address) external onlyOwner {\n",
        "\n",
        "\t\tkittyContract = KittyInterface(_address);\n",
        "\t\n",
        "\t}"
      ],
      "execution_count": null,
      "outputs": []
    },
    {
      "cell_type": "markdown",
      "metadata": {
        "id": "TAwdrbYLrXlG"
      },
      "source": [
        "There is a **security hole**, when function is **external**, so anyone can call it and change the address of the contract. To handle cases like this, we should make contracts Ownable, taken from the **OpenZeppelin** Solidity library(*secure and community-vetted*). meaning they have an owner (you) who has special *privileges*.\n",
        "\n",
        "\n",
        "\n"
      ]
    },
    {
      "cell_type": "code",
      "metadata": {
        "id": "o_CJqLG-scaD"
      },
      "source": [
        "  function _triggerCooldown(Zombie storage _zombie) internal {\n",
        "      \n",
        "\t\t_zombie.readyTime = uint32(now + cooldownTime);\n",
        "\t}\n",
        "\n",
        "\tfunction _isReady(Zombie storage _zombie) internal view returns (bool) {\n",
        "      \n",
        "\t\treturn(_zombie.readyTime <= now);\n",
        "\t}\n",
        "\n",
        "\t /*\n",
        "\t  * @title feedAndMultiply\n",
        "\t\t* @dev to give our zombies the ability to feed and multiply!\n",
        "\t\t* @dev When a zombie feeds on some other lifeform, its DNA will combine with the other lifeforms DNA to create a new zombie.\n",
        "\t\t* @param _zombieId, _targetDna (both an uint), _species(a string) as input from feedOnKitty function\n",
        "\t\t*/\n",
        "\t\t\n",
        "\tfunction feedAndMultiply(uint _zombieId, uint _targetDna, string memory _species) internal onlyOwnerOf(_zombieId) {\n",
        "\n",
        "\t\t// declare a local Zombie named myZombie (a storage pointer).\n",
        "    Zombie storage myZombie = zombies[_zombieId];\n",
        "\t\t\n",
        "    // Add a require statement that checks _isReady() and passes myZombie to it.\n",
        "    require(_isReady(myZombie));\n",
        "\n",
        "    _targetDna = _targetDna % dnaModulus;\n",
        "    uint newDna = (myZombie.dna + _targetDna) / 2;\n",
        "\n",
        "    if (keccak256(abi.encodePacked(_species)) == keccak256(abi.encodePacked(\"kitty\"))) {\n",
        "        \n",
        "      newDna = newDna - newDna % 100 + 99;\n",
        "\n",
        "// Zombies made from kitties have some unique feature that shows they are cat-zombies and have 99 as their last two digits of DNA.\n",
        "// newDna % 100 means reminds from newDna Divide on 100 equal to last two digits.\n",
        "\n",
        "    }\n",
        "\n",
        "    _createZombie(\"NoName\", newDna);\n",
        "\n",
        "    // Call _triggerCooldown(myZombie) so that feeding triggers the zombies cooldown time.\n",
        "\n",
        "    _triggerCooldown(myZombie);\t\t\n",
        "\t}\n",
        "\n",
        "  /*\n",
        "\t * @param _kittyId gets the kitty genes from getKitty function in kittycontract via interface.\n",
        "\t * @return kittyDna, Call feedAndMultiply function, and pass it\n",
        "\t */\n",
        "\tfunction feedOnKitty (uint _zombieId, uint _kittyId) public returns (uint kittyDna) {\n",
        "\n",
        "\t\t// Store genes in kittyDna.\n",
        "\t\t\n",
        "\t\tuint kittyDna;\n",
        "\t\t(,,,,,,,,kittyDna) = kittyContract.getKitty(_kittyId);\n",
        "\t\t\t\t\n",
        "\t\tfeedAndMultiply(_zombieId, kittyDna, \"kitty\");\n",
        "\t\t\n",
        "\t}\n",
        "  \n",
        "}   "
      ],
      "execution_count": null,
      "outputs": []
    },
    {
      "cell_type": "markdown",
      "metadata": {
        "id": "5VLy_nWQxe3_"
      },
      "source": [
        "**Solidity doesn't have native string comparison**, so we compare their keccak256 hashes to see if the strings are equal. If zombie _species is kitty, proceed current functin, otherwise send error and exit."
      ]
    },
    {
      "cell_type": "markdown",
      "metadata": {
        "id": "zZ_9FBM3c4yb"
      },
      "source": [
        "When you call an API function on a normal web server, you can't send **US dollars** along with your function call — nor can you send **Bitcoin**.\n",
        "In **Ethereum**, because both the money (Ether), the data (transaction **payload**), and the contract code itself all live on Ethereum, it's possible for you to call a function and pay money to the contract at the same time."
      ]
    },
    {
      "cell_type": "markdown",
      "metadata": {
        "id": "Af-8YhzAddkv"
      },
      "source": [
        "**Notice**: If the transaction is like an **envelope** and the parameters sent to the function call are the **contents of the letter** put inside then adding a value is like putting **cash** inside the envelope the letter and the money get delivered together to the recipient.\n"
      ]
    },
    {
      "cell_type": "code",
      "metadata": {
        "id": "28Bq4C87vc8G"
      },
      "source": [
        "pragma solidity >=0.5.0 <0.6.0;\n",
        "\n",
        "import \"./zombiefeeding.sol\";\n",
        "\n",
        "/**\n",
        " * @title ZombieHelper\n",
        " * @dev zombies gain special abilities after reaching a certain level.\n",
        " * @dev payable functions are a special type of function that can receive Ether.\n",
        " * @param msg.value is a way to see how much Ether was sent to the contract, and Ether is a built-in unit.\n",
        " * @dev users can pay ETH to level up their zombies. The ETH will get stored in the contract.\n",
        " * it will be trapped there — unless you add a function to withdraw the Ether from the contract.\n",
        " * @param levelUpFee, _fee (both an uint), the value field, where the javascript function call specifies how much Ether to send (0.001).\n",
        " * @param _owner variable have to be a address payable type for doing a sending and transferring ether instruction.\n",
        " * @notice Casting any integer type like uint160 to address produces an address payable.\n",
        " */ \n",
        "\n",
        "contract ZombieHelper is ZombieFeeding {\n",
        "\n",
        "\tuint levelUpFee = 0.001 ether;\n",
        "\n",
        "// modifier that uses the zombie level property to restrict access to special abilities.\n",
        "\n",
        "\tmodifier aboveLevel(uint _level , uint _zombieId){\n",
        "\t\n",
        "\t\trequire(zombies[_zombieId].level >= _level);\n",
        "\t\t_;\n",
        "\t}\n",
        "\t\n",
        "\tfunction withdraw() external onlyOwner {\n",
        "\t\n",
        "    address payable _owner = address(uint160(owner()));\n",
        "\t\n",
        "// Casting any integer type like uint160 to address produces an address payable.\n",
        "\n",
        "    _owner.transfer(address(this).balance);\n",
        "\t\n",
        "// Address(this).balance will return the total balance stored on the contract. \t\n",
        "\t}\n",
        "  \n",
        "// Note owner() and onlyOwner used from the Ownable contract, assuming that was imported.\n",
        "// _owner variable have to be a address payable type for doing a sending and transferring ETH instruction.\n",
        "\n",
        "\tfunction setLevelUpFee(uint _fee) external onlyOwner {\n",
        "\t\n",
        "    levelUpFee = _fee;\n",
        "\t\n",
        "\n",
        "\t}\n",
        "\t\n",
        "// users can pay ETH to level up their zombies.\t\n",
        "\t\n",
        "\tfunction levelUp(uint _zombieId) external payable {\n",
        "\t\n",
        "\t\trequire(msg.value == levelUpFee);\n",
        "\t\t\n",
        "// Msgvalue is a way to see how much Ether was sent to the contract, and ETH is a built-in unit.\n",
        "\n",
        "\t\tzombies[_zombieId].level++;\n",
        "\t}\n",
        "\n",
        " /*\n",
        "  * @dev For zombies level 2 and higher, users will be able to change their name.\n",
        "\t*\t@notice calldata is somehow similar to memory, but its only available to external functions.\n",
        "\t* @dev For zombies level 20 and higher, users will be able to give them custom DNA.\n",
        "  */ \n",
        "\n",
        "\tfunction changeName(uint _zombieId, string calldata _newName) external aboveLevel(2, _zombieId) onlyOwnerOf(_zombieId) {\t\n",
        "\t\t\t\t\n",
        " // _newName is a string with the data location set to calldata.\t\n",
        "\t\tzombies[_zombieId].name = _newName;\n",
        "\t}\n",
        "\n",
        "\tfunction changeDna(uint _zombieId, uint _newDna) external aboveLevel(20, _zombieId) onlyOwnerOf(_zombieId) {\n",
        "\t\t\n",
        "\t\tzombies[_zombieId].dna = _newDna;\n",
        "\t}\n",
        "\n",
        "\t/*\n",
        "\t* @dev Method to view a users entire zombie army. \n",
        "\t* @notice The array will only exist until the end of the function call, and this is a lot cheaper gas-wise than\n",
        "\t*  updating an array in storage — free if its a view function called externally.\n",
        "\t* @notice: memory arrays must be created with a length argument.\n",
        "\t* They currently cannot be resized like storage arrays can with array.push(), \n",
        "\t* although this may be changed in a future version of Solidity.\n",
        "\t*/\n",
        "\t\t\n",
        "\tfunction getZombiesByOwner(address _owner) external view returns (uint[] memory){\n",
        "\t\n",
        "\t\tuint[] memory result = new uint[](ownerZombieCount[_owner]);\n",
        "\t\tuint counter = 0;\n",
        "\t\tfor (uint i = 0; i < zombies.length; i++) {\n",
        "\t\t  if (zombieToOwner[i] == _owner) {\n",
        "\t\t\tresult[counter] = i;\n",
        "\t\t\tcounter++;\n",
        "\t\t  }\n",
        "\t\t}\n",
        "\t\treturn result;\n",
        "\n",
        "\t}\n",
        "\t\n",
        "}\n"
      ],
      "execution_count": null,
      "outputs": []
    },
    {
      "cell_type": "code",
      "metadata": {
        "id": "Cn0dCPVbvzG_"
      },
      "source": [
        "pragma solidity >=0.5.0 <0.6.0;\n",
        "\n",
        "import \"./zombiehelper.sol\";\n",
        "\n",
        " /*\n",
        "\t* @dev randMod is function that generate a Random number via keccak256\n",
        "\t* What this would do is take the timestamp of now, the msg.sender, and an incrementing nonce \n",
        "\t* @param randNonce is an input Num that is only ever used once, \n",
        "\t* so we dont run the same hash function with the same input parameters twice.\n",
        "\t* This method is vulnerable to attack by a dishonest node.\n",
        "\t*/\n",
        "\n",
        "contract ZombieAttack  is ZombieHelper {\n",
        "\n",
        "\tuint randNonce = 0;\n",
        "\tuint attackVictoryProbability = 70;\n",
        "\t\n",
        "\t/*\n",
        "\t * @return value % _modulus. (a random number between 0 and _modulus) \n",
        "\t */\n",
        "\n",
        "\tfunction randMod(uint _modulus) internal returns(uint) {\n",
        "\t\n",
        "\t\trandNonce++;\n",
        "\t\treturn uint(keccak256(abi.encodePacked(now, msg.sender, randNonce))) % _modulus;\t\n",
        "\t}\n",
        "\n",
        "\t/*\n",
        "\t* @param _modulus an uint number call randMod function and pass _modulus to it.\n",
        "\t* @dev if myZombie win, Run the feedAndMultiply function, pass an uint enemyZombie.dna \n",
        "\t* as _targetDna and the string \"zombie\" as _species.\n",
        "\t*/\n",
        "\n",
        "\tfunction attack(uint _zombieId, uint _targetId) external onlyOwnerOf(_zombieId) {\n",
        "\t\n",
        "\t\tZombie storage myZombie = zombies[_zombieId];\n",
        "\t\tZombie storage enemyZombie = zombies[_targetId];\n",
        "\n",
        "\t\tuint rand = randMod(100);\n",
        "// to use a random number between 0 and 99 to determine the outcome of our battle.\n",
        "\n",
        "\t\tif (rand <= attackVictoryProbability) {\n",
        "\t\t\tmyZombie.winCount++;\n",
        "\t\t\tmyZombie.level++;\n",
        "\t\t\tenemyZombie.lossCount++;    \n",
        "\t\t\tfeedAndMultiply(_zombieId, enemyZombie.dna, \"zombie\");\n",
        "\t\t} else {\n",
        "\t\t\tmyZombie.lossCount++;\n",
        "\t\t\tenemyZombie.winCount++;\n",
        "\t\t\t_triggerCooldown(myZombie);\n",
        "\t\t}\t\n",
        "\t}\n",
        "}"
      ],
      "execution_count": null,
      "outputs": []
    },
    {
      "cell_type": "markdown",
      "metadata": {
        "id": "7PM0gQHKG7-N"
      },
      "source": [
        "# to store all the **ERC721** logic in a contract"
      ]
    },
    {
      "cell_type": "markdown",
      "metadata": {
        "id": "YQzVRch5ftOK"
      },
      "source": [
        "A **token** on Ethereum is basically just a smart contract that follows some common rules — namely it implements a standard set of functions that all other token contracts share."
      ]
    },
    {
      "cell_type": "markdown",
      "metadata": {
        "id": "okFhyjyCiMQM"
      },
      "source": [
        "**ERC721** tokens are not **interchangeable** since each one is assumed to be unique, and unlike **ERC20** token, are not **divisible**. You can only trade them in whole units, and each one has a **unique ID**. So these are a perfect fit for making our zombies tradeable."
      ]
    },
    {
      "cell_type": "code",
      "metadata": {
        "id": "Jk4fTNfBGy6O"
      },
      "source": [
        "pragma solidity >=0.5.0 <0.6.0;\n",
        "\n",
        "import \"./zombieattack.sol\";\n",
        "import \"./ERC721.sol\";\n",
        "\n",
        "/**\n",
        " * @title ZombieOwnership\n",
        " * @dev to store all the ERC721 logic in a token contract and override each method with a function definition.\n",
        " * @dev  ZombieOwnership is inheriting from both ZombieAttack and ERC721 contract\n",
        "\n",
        "contract ZombieOwnership is ZombieAttack, ERC721 {\n",
        "\n",
        "\t mapping (uint => address) zombieApprovals;\n",
        "\n",
        "// mapping (address => uint) ownerZombieCount\n",
        "// ownerZombieCount[address] = uint\n",
        "\n",
        "  function balanceOf(address _owner) external view returns (uint256) {\n",
        "    return ownerZombieCount[_owner];\n",
        "  }\n",
        "\n",
        "// mapping (uint => address) zombieToOwner\n",
        "// zombieToOwner[uint] = address\n",
        "\n",
        "  function ownerOf(uint256 _tokenId) external view returns (address) {\n",
        "    return zombieToOwner[_tokenId];\n",
        "  }\n",
        "\n",
        "  function _transfer(address _from, address _to, uint256 _tokenId) private {\n",
        "    ownerZombieCount[_to]++;\n",
        "    ownerZombieCount[_from]--;\n",
        "    zombieToOwner[_tokenId] = _to;\n",
        "\t  emit Transfer(_from, _to, _tokenId);\n",
        "  }\n",
        "\n",
        "  function transferFrom(address _from, address _to, uint256 _tokenId) external payable {\n",
        "  \n",
        "// Only the owner or the approved address of a token/zombie can transfer it.\n",
        "\n",
        "\t  require (zombieToOwner[_tokenId] == msg.sender || zombieApprovals[_tokenId] = msg.sender);\n",
        "\t\n",
        "    _transfer(_from, _to, _tokenId);\n",
        "\t\n",
        "  }\n",
        "  \n",
        "// Add the onlyOwnerOf modifier to make sure only the owner of the token can give someone approval to take it.\n",
        "\n",
        "  function approve(address _approved, uint256 _tokenId) external payable onlyOwnerOf(_tokenId) {\n",
        "      \n",
        "    zombieApprovals[_tokenId] = _approved;\n",
        "\t  emit Approval(msg.sender, _approved, _tokenId);\n",
        "\n",
        "  }\n",
        "}\n"
      ],
      "execution_count": null,
      "outputs": []
    }
  ]
}